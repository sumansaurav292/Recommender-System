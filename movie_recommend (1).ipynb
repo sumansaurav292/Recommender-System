{
 "cells": [
  {
   "cell_type": "code",
   "execution_count": 3,
   "metadata": {},
   "outputs": [],
   "source": [
    "import pandas as pd\n",
    "import numpy as np\n",
    "from matplotlib import pyplot as plt\n",
    "import sorting\n",
    "import random\n",
    "from sklearn.preprocessing import MinMaxScaler\n",
    "import math"
   ]
  },
  {
   "cell_type": "code",
   "execution_count": 4,
   "metadata": {},
   "outputs": [],
   "source": [
    "movie_data=pd.read_csv('/home/acer/Downloads/ml-latest-small/movies.csv')\n",
    "links=pd.read_csv('/home/acer/Downloads/ml-latest-small/links.csv')\n",
    "ratings=pd.read_csv('/home/acer/Downloads/ml-latest-small/ratings.csv')\n",
    "tags=pd.read_csv('/home/acer/Downloads/ml-latest-small/tags.csv')"
   ]
  },
  {
   "cell_type": "code",
   "execution_count": 5,
   "metadata": {},
   "outputs": [],
   "source": [
    "user_rating=np.zeros((len(np.unique(ratings['userId'])),len(np.unique(ratings['movieId']))))\n",
    "train=np.zeros(user_rating.shape)\n",
    "test=np.zeros(user_rating.shape)"
   ]
  },
  {
   "cell_type": "code",
   "execution_count": 6,
   "metadata": {},
   "outputs": [],
   "source": [
    "for i in np.unique(ratings['userId']):\n",
    "    k=ratings[ratings['userId']==i]\n",
    "    for j in range(len(k)):\n",
    "        if (k['movieId'].iloc[j]-1<=9742):\n",
    "            user_rating[i-1,k['movieId'].iloc[j]-1]=k['rating'].iloc[j]"
   ]
  },
  {
   "cell_type": "markdown",
   "metadata": {},
   "source": [
    "## Test Train split"
   ]
  },
  {
   "cell_type": "code",
   "execution_count": 7,
   "metadata": {},
   "outputs": [],
   "source": [
    "t=int(np.count_nonzero(user_rating)*80/100)\n",
    "non_zero=[]\n",
    "for i in range(user_rating.shape[0]):\n",
    "    for j in range(user_rating.shape[1]):\n",
    "        if(user_rating[i,j]!=0):\n",
    "            non_zero.append([i,j])\n",
    "k=0\n",
    "while(k<=t):\n",
    "    i=random.randint(1,len(non_zero)-1)\n",
    "    train[non_zero[i][0],non_zero[i][1]]=user_rating[non_zero[i][0],non_zero[i][1]]\n",
    "    non_zero.remove(non_zero[i])\n",
    "    k=k+1"
   ]
  },
  {
   "cell_type": "code",
   "execution_count": 8,
   "metadata": {},
   "outputs": [
    {
     "data": {
      "text/plain": [
       "array([[0. , 0. , 4. , ..., 0. , 0. , 0. ],\n",
       "       [0. , 0. , 0. , ..., 0. , 0. , 0. ],\n",
       "       [0. , 0. , 0. , ..., 0. , 0. , 0. ],\n",
       "       ...,\n",
       "       [2.5, 2. , 2. , ..., 0. , 0. , 0. ],\n",
       "       [3. , 0. , 0. , ..., 0. , 0. , 0. ],\n",
       "       [5. , 0. , 0. , ..., 0. , 0. , 0. ]])"
      ]
     },
     "execution_count": 8,
     "metadata": {},
     "output_type": "execute_result"
    }
   ],
   "source": [
    "train"
   ]
  },
  {
   "cell_type": "code",
   "execution_count": 9,
   "metadata": {},
   "outputs": [],
   "source": [
    "for i in non_zero:\n",
    "    test[i[0],i[1]]=user_rating[i[0],i[1]]"
   ]
  },
  {
   "cell_type": "code",
   "execution_count": 10,
   "metadata": {},
   "outputs": [
    {
     "data": {
      "text/plain": [
       "array([[4., 0., 0., ..., 0., 0., 0.],\n",
       "       [0., 0., 0., ..., 0., 0., 0.],\n",
       "       [0., 0., 0., ..., 0., 0., 0.],\n",
       "       ...,\n",
       "       [0., 0., 0., ..., 0., 0., 0.],\n",
       "       [0., 0., 0., ..., 0., 0., 0.],\n",
       "       [0., 0., 0., ..., 0., 0., 0.]])"
      ]
     },
     "execution_count": 10,
     "metadata": {},
     "output_type": "execute_result"
    }
   ],
   "source": [
    "test"
   ]
  },
  {
   "cell_type": "markdown",
   "metadata": {},
   "source": [
    "## Matrix factorization"
   ]
  },
  {
   "cell_type": "code",
   "execution_count": 39,
   "metadata": {},
   "outputs": [],
   "source": [
    "user=np.random.rand(user_rating.shape[0],5)\n",
    "movies=np.random.randint(4,size=(user_rating.shape[1],5))\n",
    "I=np.zeros(user_rating.shape)"
   ]
  },
  {
   "cell_type": "code",
   "execution_count": 40,
   "metadata": {},
   "outputs": [],
   "source": [
    "for i in range(user_rating.shape[0]):\n",
    "    for j in range(user_rating.shape[1]):\n",
    "        if(user_rating[i][j]!=0):\n",
    "            I[i][j]=1"
   ]
  },
  {
   "cell_type": "code",
   "execution_count": 41,
   "metadata": {},
   "outputs": [],
   "source": [
    "def gradient(user,movies,result):\n",
    "    user=user+2*0.000001*(result.dot(movies))\n",
    "    movies=movies+2*0.000001*(result.T.dot(user))\n",
    "    return(user,movies)\n",
    "def prediction(user,movies,user_r,k):\n",
    "    error=[]\n",
    "    for i in range(k):\n",
    "        result=np.multiply((user_r-user.dot(movies.T)),I)\n",
    "        user,movie=gradient(user,movies,result)\n",
    "        error.append(np.sum(np.square(result)))\n",
    "    return(error,user,movies)"
   ]
  },
  {
   "cell_type": "code",
   "execution_count": 42,
   "metadata": {},
   "outputs": [],
   "source": [
    "def accuracy (user,movies,data,k):\n",
    "    error1=prediction(user,movies,data,k)\n",
    "    result1=error1[1].dot(error1[2].T)\n",
    "    e=0\n",
    "    for i in range(data.shape[0]):\n",
    "        for j in range(data.shape[1]):\n",
    "            if(data[i,j]!=0):\n",
    "                e+=(data[i,j]-result1[i,j])**2\n",
    "    return(math.sqrt(e/np.count_nonzero(data)),result1)"
   ]
  },
  {
   "cell_type": "code",
   "execution_count": 43,
   "metadata": {},
   "outputs": [],
   "source": [
    "train_ac,train_result=accuracy(user,movies,train,1000)\n",
    "test_ac,test_result=accuracy(user,movies,test,1000)"
   ]
  },
  {
   "cell_type": "code",
   "execution_count": 44,
   "metadata": {},
   "outputs": [
    {
     "data": {
      "text/plain": [
       "2.8742483141214197"
      ]
     },
     "execution_count": 44,
     "metadata": {},
     "output_type": "execute_result"
    }
   ],
   "source": [
    "test_ac"
   ]
  },
  {
   "cell_type": "code",
   "execution_count": 45,
   "metadata": {},
   "outputs": [
    {
     "data": {
      "text/plain": [
       "1.6461405927252653"
      ]
     },
     "execution_count": 45,
     "metadata": {},
     "output_type": "execute_result"
    }
   ],
   "source": [
    "train_ac"
   ]
  },
  {
   "cell_type": "code",
   "execution_count": 46,
   "metadata": {},
   "outputs": [
    {
     "data": {
      "text/plain": [
       "array([[ 0.3504239 ,  2.85914093,  5.01926822, ...,  4.12563597,\n",
       "         1.05049567,  2.63391337],\n",
       "       [ 0.40938213,  2.83010309,  4.47512228, ...,  5.07657595,\n",
       "         1.9499904 ,  2.16245592],\n",
       "       [ 1.2025343 ,  0.11175689,  2.72902645, ...,  2.55173065,\n",
       "         1.31847642, -0.51739823],\n",
       "       ...,\n",
       "       [ 0.61111246,  1.75786923,  3.37194776, ...,  2.72871217,\n",
       "         1.27249872,  1.65495443],\n",
       "       [ 1.31761322,  1.35144169,  4.81220476, ...,  2.80006788,\n",
       "         2.55979292,  1.95485193],\n",
       "       [ 0.61853502,  1.9835731 ,  3.95537367, ...,  3.22132746,\n",
       "         1.36681325,  1.85497791]])"
      ]
     },
     "execution_count": 46,
     "metadata": {},
     "output_type": "execute_result"
    }
   ],
   "source": [
    "train_result"
   ]
  },
  {
   "cell_type": "code",
   "execution_count": 47,
   "metadata": {},
   "outputs": [
    {
     "data": {
      "text/plain": [
       "array([[-0.08744432,  1.13389089,  1.88884037, ...,  1.47697708,\n",
       "        -0.32265517,  0.90105696],\n",
       "       [ 0.29779166,  2.36248864,  3.63427716, ...,  4.44616746,\n",
       "         1.61343181,  1.65294645],\n",
       "       [ 0.90942729, -0.67060172,  1.25394321, ...,  1.39440947,\n",
       "         0.61518795, -1.3302079 ],\n",
       "       ...,\n",
       "       [ 0.16651616,  0.41959682,  0.76090616, ...,  0.6009597 ,\n",
       "         0.36987234,  0.42607745],\n",
       "       [ 1.02908083,  0.50054387,  3.0847182 , ...,  1.24989801,\n",
       "         1.76526618,  1.16911517],\n",
       "       [ 0.16543154,  0.52951267,  1.06413446, ...,  1.06436861,\n",
       "         0.34796238,  0.36132422]])"
      ]
     },
     "execution_count": 47,
     "metadata": {},
     "output_type": "execute_result"
    }
   ],
   "source": [
    "test_result"
   ]
  },
  {
   "cell_type": "markdown",
   "metadata": {},
   "source": [
    "## Regularised"
   ]
  },
  {
   "cell_type": "code",
   "execution_count": 51,
   "metadata": {},
   "outputs": [],
   "source": [
    "beta=0.0001\n",
    "def prediction2(user,movies,user_r,k):\n",
    "    error=[]\n",
    "    for i in range(k):\n",
    "        result=np.square(np.multiply((user_r-user.dot(movies.T)),I))+beta*((np.sum(np.square(user))+(np.sum(np.square(movies)))))\n",
    "        user,movies=gradient2(user,movies,result)\n",
    "        error.append(np.sum(1/(2*user_r.shape[0])*np.square(result)))\n",
    "    return(error,user,movies)\n",
    "\n",
    "def gradient2(user,movies,result):\n",
    "    user=user-0.000000001*(2*(result.dot(movies))+2*beta*(np.sum(user)))\n",
    "    movies=movies-0.00000001*(2*(result.T.dot(user))+2*beta*np.sum(movies))\n",
    "    return(user,movies)"
   ]
  },
  {
   "cell_type": "code",
   "execution_count": 52,
   "metadata": {},
   "outputs": [],
   "source": [
    "def accuracy_regularised(user,movies,data,k):\n",
    "    error2=prediction2(user,movies,data,k)\n",
    "    result2=error2[1].dot(error2[2].T)\n",
    "    e=0\n",
    "    for i in range(data.shape[0]):\n",
    "        for j in range(data.shape[1]):\n",
    "            if(data[i,j]!=0):\n",
    "                e+=(data[i,j]-result2[i,j])**2\n",
    "    return(math.sqrt(e/np.count_nonzero(data)),result2)"
   ]
  },
  {
   "cell_type": "code",
   "execution_count": 53,
   "metadata": {},
   "outputs": [],
   "source": [
    "train_ac_r,train_result_re=accuracy_regularised(user,movies,train,1000)\n",
    "test_ac_r,test_result_re=accuracy_regularised(user,movies,train,1000)"
   ]
  },
  {
   "cell_type": "code",
   "execution_count": 54,
   "metadata": {},
   "outputs": [
    {
     "data": {
      "text/plain": [
       "3.7550708213152064"
      ]
     },
     "execution_count": 54,
     "metadata": {},
     "output_type": "execute_result"
    }
   ],
   "source": [
    "train_ac_r"
   ]
  },
  {
   "cell_type": "code",
   "execution_count": 55,
   "metadata": {},
   "outputs": [
    {
     "data": {
      "text/plain": [
       "3.7550708213152064"
      ]
     },
     "execution_count": 55,
     "metadata": {},
     "output_type": "execute_result"
    }
   ],
   "source": [
    "test_ac_r"
   ]
  },
  {
   "cell_type": "code",
   "execution_count": 56,
   "metadata": {},
   "outputs": [
    {
     "data": {
      "text/plain": [
       "array([[-0.91274894,  0.22980844, -0.05714258, ..., -0.01047942,\n",
       "        -1.95333261, -0.10436921],\n",
       "       [-0.54584324,  0.0237869 , -0.7387419 , ...,  0.86471809,\n",
       "        -0.36891849, -0.64864243],\n",
       "       [ 0.82233116, -1.53904583,  0.2563564 , ...,  0.40602509,\n",
       "        -0.04275296, -2.25630922],\n",
       "       ...,\n",
       "       [ 0.46357915, -0.19116299, -0.13158048, ..., -0.29478279,\n",
       "        -0.29743534, -0.50569781],\n",
       "       [ 0.44162569, -1.34974881, -0.2054884 , ..., -1.25386963,\n",
       "         0.40960775, -0.73418987],\n",
       "       [-0.4925502 , -0.58372405, -0.36609141, ...,  0.44559039,\n",
       "        -1.09346751, -1.21037044]])"
      ]
     },
     "execution_count": 56,
     "metadata": {},
     "output_type": "execute_result"
    }
   ],
   "source": [
    "train_result_re"
   ]
  },
  {
   "cell_type": "markdown",
   "metadata": {},
   "source": [
    "## Sliding window "
   ]
  },
  {
   "cell_type": "code",
   "execution_count": 95,
   "metadata": {},
   "outputs": [],
   "source": [
    "def gradient_sliding_w(user,movies,result):\n",
    "    user=user+2*0.000001*(result.dot(movies))\n",
    "    movies=movies+2*0.000001*(result.T.dot(user))\n",
    "    return(user,movies)\n",
    "def prediction_sliding_w(user,movies,user_r,k,win_size):\n",
    "    error=[]\n",
    "    win=[]\n",
    "    for i in range(k):\n",
    "        result=np.multiply((user_r-user.dot(movies.T)),I)\n",
    "        user,movie=gradient_sliding_w(user,movies,result)\n",
    "        e=np.sum(np.square(result))\n",
    "        error.append(e)\n",
    "        if(i<win_size):\n",
    "            win.append(e)\n",
    "        else:\n",
    "            mean1=sum(win)/win_size\n",
    "            del win[0]\n",
    "            win.append(e)\n",
    "            mean2=sum(win)/win_size\n",
    "            if(mean1<mean2):\n",
    "                break\n",
    "            else:\n",
    "                continue\n",
    "    return(error,user,movies)"
   ]
  },
  {
   "cell_type": "code",
   "execution_count": 96,
   "metadata": {},
   "outputs": [],
   "source": [
    "def accuracy_sliding_w(user,movies,data,k,win_size):\n",
    "    error1=prediction_sliding_w(user,movies,data,k,win_size)\n",
    "    result1=error1[1].dot(error1[2].T)\n",
    "    e=0\n",
    "    for i in range(data.shape[0]):\n",
    "        for j in range(data.shape[1]):\n",
    "            if(data[i,j]!=0):\n",
    "                e+=(data[i,j]-result1[i,j])**2\n",
    "    return(math.sqrt(e/np.count_nonzero(data)),result1)"
   ]
  },
  {
   "cell_type": "code",
   "execution_count": 97,
   "metadata": {},
   "outputs": [],
   "source": [
    "train_ac_sw,train_result_sw=accuracy_sliding_w(user,movies,train,1000,10)\n",
    "test_ac_sw,test_result_sw=accuracy_sliding_w(user,movies,train,1000,10)"
   ]
  },
  {
   "cell_type": "code",
   "execution_count": 98,
   "metadata": {},
   "outputs": [
    {
     "data": {
      "text/plain": [
       "1.6461405927252653"
      ]
     },
     "execution_count": 98,
     "metadata": {},
     "output_type": "execute_result"
    }
   ],
   "source": [
    "train_ac_sw"
   ]
  },
  {
   "cell_type": "code",
   "execution_count": 99,
   "metadata": {},
   "outputs": [
    {
     "data": {
      "text/plain": [
       "1.6461405927252653"
      ]
     },
     "execution_count": 99,
     "metadata": {},
     "output_type": "execute_result"
    }
   ],
   "source": [
    "test_ac_sw"
   ]
  },
  {
   "cell_type": "markdown",
   "metadata": {},
   "source": [
    "# Line Search "
   ]
  },
  {
   "cell_type": "code",
   "execution_count": null,
   "metadata": {},
   "outputs": [],
   "source": []
  },
  {
   "cell_type": "code",
   "execution_count": null,
   "metadata": {},
   "outputs": [],
   "source": []
  },
  {
   "cell_type": "code",
   "execution_count": null,
   "metadata": {},
   "outputs": [],
   "source": []
  },
  {
   "cell_type": "code",
   "execution_count": null,
   "metadata": {},
   "outputs": [],
   "source": []
  },
  {
   "cell_type": "markdown",
   "metadata": {},
   "source": [
    "# Recommend"
   ]
  },
  {
   "cell_type": "code",
   "execution_count": 57,
   "metadata": {},
   "outputs": [],
   "source": [
    "def find_movie(rating_matrix):\n",
    "    l=[]\n",
    "    for i in range(rating_matrix.shape[0]):\n",
    "        t=[]\n",
    "        q=sorted(range(len(rating_matrix[0])), key=lambda k: rating_matrix[i][k])\n",
    "        q.reverse()\n",
    "        for j in q:\n",
    "            if(user_rating[i,j]==0):\n",
    "                t.append(j)\n",
    "        l.append(t)\n",
    "    return(l)"
   ]
  },
  {
   "cell_type": "code",
   "execution_count": 58,
   "metadata": {},
   "outputs": [],
   "source": [
    "def recommendation(user,n,l,mat):\n",
    "    i=0\n",
    "    while(n>=0):\n",
    "        print(l[user][i],\"    \",movie_data[\"title\"][l[user][i]],\"    \",mat[user,l[user][i]])\n",
    "        i=i+1\n",
    "        n=n-1"
   ]
  },
  {
   "cell_type": "code",
   "execution_count": 59,
   "metadata": {},
   "outputs": [],
   "source": [
    "t=prediction(user,movies,user_rating,1000)"
   ]
  },
  {
   "cell_type": "code",
   "execution_count": 60,
   "metadata": {},
   "outputs": [],
   "source": [
    "predicted_matrix=t[1].dot(t[2].T)"
   ]
  },
  {
   "cell_type": "code",
   "execution_count": 61,
   "metadata": {},
   "outputs": [
    {
     "name": "stdout",
     "output_type": "stream",
     "text": [
      "7994      Love Lasts Three Years (L'amour dure trois ans) (2011)      7.441997815163662\n",
      "7357      Winter's Bone (2010)      7.441997815163662\n",
      "4779      Diabolique (Les diaboliques) (1955)      7.441997815163662\n",
      "4453      Eve of Destruction (1991)      7.441997815163662\n",
      "4150      My Girl (1991)      7.441997815163662\n",
      "3247      Lost and Delirious (2001)      7.441997815163662\n",
      "8684      Ben-hur (2016)      7.31482303903767\n",
      "7647      Crazy, Stupid, Love. (2011)      7.31482303903767\n",
      "6927      Wrestler, The (2008)      7.31482303903767\n",
      "6214      Game 6 (2005)      7.31482303903767\n",
      "6137      London (2005)      7.31482303903767\n",
      "5994      Doom (2005)      7.31482303903767\n",
      "4722      Wild at Heart (1990)      7.31482303903767\n",
      "1371      Deep Impact (1998)      7.31482303903767\n",
      "279      Suture (1993)      7.31482303903767\n",
      "9320      The Conjuring 2 (2016)      7.187648262911678\n"
     ]
    }
   ],
   "source": [
    "recommendation(4,15,find_movie(predicted_matrix),predicted_matrix)"
   ]
  },
  {
   "cell_type": "code",
   "execution_count": 62,
   "metadata": {},
   "outputs": [],
   "source": [
    "t_re=prediction2(user,movies,user_rating,1000)\n",
    "predicted_matrix_re=t_re[1].dot(t_re[2].T)"
   ]
  },
  {
   "cell_type": "code",
   "execution_count": 63,
   "metadata": {},
   "outputs": [
    {
     "name": "stdout",
     "output_type": "stream",
     "text": [
      "7712      Thing, The (2011)      2.696132875619825\n",
      "7085      Polytechnique (2009)      2.6961258704119313\n",
      "9384      DC Super Hero Girls: Hero of the Year (2016)      2.696091137265734\n",
      "9286      The Nice Guys (2016)      2.696091137265734\n",
      "8714      Fifty Shades of Grey (2015)      2.696091137265734\n",
      "582      Horseman on the Roof, The (Hussard sur le toit, Le) (1995)      2.695993826362622\n",
      "3552      Female Trouble (1975)      2.6958808663336384\n",
      "4382      6th Man, The (Sixth Man, The) (1997)      2.6957647289649698\n",
      "111      Pie in the Sky (1996)      2.6955376457294635\n",
      "1233      Indian Summer (a.k.a. Alive & Kicking) (1996)      2.6955009486258787\n",
      "7727      This Must Be the Place (2011)      2.6335754232421875\n",
      "3072      Leonard Part 6 (1987)      2.633556989988686\n",
      "9448      The OA      2.633526942506375\n",
      "7776      Girl with the Dragon Tattoo, The (2011)      2.633526942506375\n",
      "7028      Powder Blue (2009)      2.633526942506375\n",
      "5932      March of the Penguins (Marche de l'empereur, La) (2005)      2.633526942506375\n"
     ]
    }
   ],
   "source": [
    "recommendation(4,15,find_movie(predicted_matrix_re),predicted_matrix_re)"
   ]
  },
  {
   "cell_type": "code",
   "execution_count": 102,
   "metadata": {},
   "outputs": [],
   "source": [
    "t_sw=prediction_sliding_w(user,movies,user_rating,1000,10)\n",
    "predicted_matrix_sw=t_sw[1].dot(t_sw[2].T)"
   ]
  },
  {
   "cell_type": "code",
   "execution_count": 103,
   "metadata": {},
   "outputs": [
    {
     "name": "stdout",
     "output_type": "stream",
     "text": [
      "7712      Thing, The (2011)      7.0604734867856855\n",
      "7085      Polytechnique (2009)      7.0604734867856855\n",
      "9384      DC Super Hero Girls: Hero of the Year (2016)      7.0604734867856855\n",
      "9286      The Nice Guys (2016)      7.0604734867856855\n",
      "8714      Fifty Shades of Grey (2015)      7.0604734867856855\n",
      "582      Horseman on the Roof, The (Hussard sur le toit, Le) (1995)      7.0604734867856855\n",
      "3552      Female Trouble (1975)      7.0604734867856855\n",
      "4382      6th Man, The (Sixth Man, The) (1997)      7.0604734867856855\n",
      "111      Pie in the Sky (1996)      7.0604734867856855\n",
      "1233      Indian Summer (a.k.a. Alive & Kicking) (1996)      7.0604734867856855\n",
      "7727      This Must Be the Place (2011)      6.629737304696616\n",
      "3072      Leonard Part 6 (1987)      6.629737304696616\n",
      "9448      The OA      6.629737304696616\n",
      "7776      Girl with the Dragon Tattoo, The (2011)      6.629737304696616\n",
      "7028      Powder Blue (2009)      6.629737304696616\n",
      "5932      March of the Penguins (Marche de l'empereur, La) (2005)      6.629737304696616\n"
     ]
    }
   ],
   "source": [
    "recommendation(4,15,find_movie(predicted_matrix_re),predicted_matrix_sw)"
   ]
  },
  {
   "cell_type": "code",
   "execution_count": null,
   "metadata": {},
   "outputs": [],
   "source": []
  },
  {
   "cell_type": "code",
   "execution_count": 64,
   "metadata": {},
   "outputs": [
    {
     "data": {
      "image/png": "[encoded data removed]",
      "text/plain": [
       "<Figure size 432x288 with 1 Axes>"
      ]
     },
     "metadata": {
      "needs_background": "light"
     },
     "output_type": "display_data"
    }
   ],
   "source": [
    "plt.hist(ratings['rating'],rwidth=0.5)\n",
    "plt.show()"
   ]
  },
  {
   "cell_type": "code",
   "execution_count": 34,
   "metadata": {},
   "outputs": [],
   "source": [
    "def scaling(mat,tmax,tmin):\n",
    "    scaler=MinMaxScaler(feature_range=(0,5))\n",
    "    for i in range(mat.shape[0]):\n",
    "        print(mat[i].shape)\n",
    "        scaler.fit(mat[i].reshape(1,-1))\n",
    "        mat[i]=scaler.transform(mat[i])\n",
    "    return(mat)"
   ]
  },
  {
   "cell_type": "code",
   "execution_count": 35,
   "metadata": {},
   "outputs": [
    {
     "name": "stdout",
     "output_type": "stream",
     "text": [
      "(9724,)\n"
     ]
    },
    {
     "ename": "ValueError",
     "evalue": "Expected 2D array, got 1D array instead:\narray=[4.40165488 2.61454654 3.96622623 ... 3.58234229 4.10125086 5.81871421].\nReshape your data either using array.reshape(-1, 1) if your data has a single feature or array.reshape(1, -1) if it contains a single sample.",
     "output_type": "error",
     "traceback": [
      "\u001b[0;31m---------------------------------------------------------------------------\u001b[0m",
      "\u001b[0;31mValueError\u001b[0m                                Traceback (most recent call last)",
      "\u001b[0;32m<ipython-input-35-e19ac297d58c>\u001b[0m in \u001b[0;36m<module>\u001b[0;34m\u001b[0m\n\u001b[0;32m----> 1\u001b[0;31m \u001b[0ml\u001b[0m\u001b[0;34m=\u001b[0m\u001b[0mscaling\u001b[0m\u001b[0;34m(\u001b[0m\u001b[0mpredicted_matrix\u001b[0m\u001b[0;34m,\u001b[0m\u001b[0;36m5\u001b[0m\u001b[0;34m,\u001b[0m\u001b[0;36m0\u001b[0m\u001b[0;34m)\u001b[0m\u001b[0;34m\u001b[0m\u001b[0;34m\u001b[0m\u001b[0m\n\u001b[0m",
      "\u001b[0;32m<ipython-input-34-008f81fa6192>\u001b[0m in \u001b[0;36mscaling\u001b[0;34m(mat, tmax, tmin)\u001b[0m\n\u001b[1;32m      4\u001b[0m         \u001b[0mprint\u001b[0m\u001b[0;34m(\u001b[0m\u001b[0mmat\u001b[0m\u001b[0;34m[\u001b[0m\u001b[0mi\u001b[0m\u001b[0;34m]\u001b[0m\u001b[0;34m.\u001b[0m\u001b[0mshape\u001b[0m\u001b[0;34m)\u001b[0m\u001b[0;34m\u001b[0m\u001b[0;34m\u001b[0m\u001b[0m\n\u001b[1;32m      5\u001b[0m         \u001b[0mscaler\u001b[0m\u001b[0;34m.\u001b[0m\u001b[0mfit\u001b[0m\u001b[0;34m(\u001b[0m\u001b[0mmat\u001b[0m\u001b[0;34m[\u001b[0m\u001b[0mi\u001b[0m\u001b[0;34m]\u001b[0m\u001b[0;34m.\u001b[0m\u001b[0mreshape\u001b[0m\u001b[0;34m(\u001b[0m\u001b[0;36m1\u001b[0m\u001b[0;34m,\u001b[0m\u001b[0;34m-\u001b[0m\u001b[0;36m1\u001b[0m\u001b[0;34m)\u001b[0m\u001b[0;34m)\u001b[0m\u001b[0;34m\u001b[0m\u001b[0;34m\u001b[0m\u001b[0m\n\u001b[0;32m----> 6\u001b[0;31m         \u001b[0mmat\u001b[0m\u001b[0;34m[\u001b[0m\u001b[0mi\u001b[0m\u001b[0;34m]\u001b[0m\u001b[0;34m=\u001b[0m\u001b[0mscaler\u001b[0m\u001b[0;34m.\u001b[0m\u001b[0mtransform\u001b[0m\u001b[0;34m(\u001b[0m\u001b[0mmat\u001b[0m\u001b[0;34m[\u001b[0m\u001b[0mi\u001b[0m\u001b[0;34m]\u001b[0m\u001b[0;34m)\u001b[0m\u001b[0;34m\u001b[0m\u001b[0;34m\u001b[0m\u001b[0m\n\u001b[0m\u001b[1;32m      7\u001b[0m     \u001b[0;32mreturn\u001b[0m\u001b[0;34m(\u001b[0m\u001b[0mmat\u001b[0m\u001b[0;34m)\u001b[0m\u001b[0;34m\u001b[0m\u001b[0;34m\u001b[0m\u001b[0m\n",
      "\u001b[0;32m~/anaconda3/lib/python3.7/site-packages/sklearn/preprocessing/data.py\u001b[0m in \u001b[0;36mtransform\u001b[0;34m(self, X)\u001b[0m\n\u001b[1;32m    394\u001b[0m \u001b[0;34m\u001b[0m\u001b[0m\n\u001b[1;32m    395\u001b[0m         X = check_array(X, copy=self.copy, dtype=FLOAT_DTYPES,\n\u001b[0;32m--> 396\u001b[0;31m                         force_all_finite=\"allow-nan\")\n\u001b[0m\u001b[1;32m    397\u001b[0m \u001b[0;34m\u001b[0m\u001b[0m\n\u001b[1;32m    398\u001b[0m         \u001b[0mX\u001b[0m \u001b[0;34m*=\u001b[0m \u001b[0mself\u001b[0m\u001b[0;34m.\u001b[0m\u001b[0mscale_\u001b[0m\u001b[0;34m\u001b[0m\u001b[0;34m\u001b[0m\u001b[0m\n",
      "\u001b[0;32m~/anaconda3/lib/python3.7/site-packages/sklearn/utils/validation.py\u001b[0m in \u001b[0;36mcheck_array\u001b[0;34m(array, accept_sparse, accept_large_sparse, dtype, order, copy, force_all_finite, ensure_2d, allow_nd, ensure_min_samples, ensure_min_features, warn_on_dtype, estimator)\u001b[0m\n\u001b[1;32m    550\u001b[0m                     \u001b[0;34m\"Reshape your data either using array.reshape(-1, 1) if \"\u001b[0m\u001b[0;34m\u001b[0m\u001b[0;34m\u001b[0m\u001b[0m\n\u001b[1;32m    551\u001b[0m                     \u001b[0;34m\"your data has a single feature or array.reshape(1, -1) \"\u001b[0m\u001b[0;34m\u001b[0m\u001b[0;34m\u001b[0m\u001b[0m\n\u001b[0;32m--> 552\u001b[0;31m                     \"if it contains a single sample.\".format(array))\n\u001b[0m\u001b[1;32m    553\u001b[0m \u001b[0;34m\u001b[0m\u001b[0m\n\u001b[1;32m    554\u001b[0m         \u001b[0;31m# in the future np.flexible dtypes will be handled like object dtypes\u001b[0m\u001b[0;34m\u001b[0m\u001b[0;34m\u001b[0m\u001b[0;34m\u001b[0m\u001b[0m\n",
      "\u001b[0;31mValueError\u001b[0m: Expected 2D array, got 1D array instead:\narray=[4.40165488 2.61454654 3.96622623 ... 3.58234229 4.10125086 5.81871421].\nReshape your data either using array.reshape(-1, 1) if your data has a single feature or array.reshape(1, -1) if it contains a single sample."
     ]
    }
   ],
   "source": [
    "l=scaling(predicted_matrix,5,0)"
   ]
  },
  {
   "cell_type": "code",
   "execution_count": null,
   "metadata": {},
   "outputs": [],
   "source": [
    "l"
   ]
  },
  {
   "cell_type": "code",
   "execution_count": null,
   "metadata": {},
   "outputs": [],
   "source": [
    "predicted_matrix"
   ]
  },
  {
   "cell_type": "code",
   "execution_count": null,
   "metadata": {},
   "outputs": [],
   "source": [
    "k=[]\n",
    "for i in range(l.shape[0]):\n",
    "    for j in range(l.shape[1]):\n",
    "        if(user_rating[i,j]!=0):\n",
    "            k.append(l[i,j])"
   ]
  },
  {
   "cell_type": "code",
   "execution_count": null,
   "metadata": {},
   "outputs": [],
   "source": [
    "plt.hist(k,rwidth=0.5)\n",
    "plt.show()"
   ]
  },
  {
   "cell_type": "code",
   "execution_count": null,
   "metadata": {},
   "outputs": [],
   "source": [
    "len(k)"
   ]
  },
  {
   "cell_type": "code",
   "execution_count": null,
   "metadata": {
    "collapsed": true
   },
   "outputs": [],
   "source": []
  }
 ],
 "metadata": {
  "kernelspec": {
   "display_name": "Python 3",
   "language": "python",
   "name": "python3"
  },
  "language_info": {
   "codemirror_mode": {
    "name": "ipython",
    "version": 3
   },
   "file_extension": ".py",
   "mimetype": "text/x-python",
   "name": "python",
   "nbconvert_exporter": "python",
   "pygments_lexer": "ipython3",
   "version": "3.6.5"
  }
 },
 "nbformat": 4,
 "nbformat_minor": 2
}
